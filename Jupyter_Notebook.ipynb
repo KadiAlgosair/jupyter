{
 "cells": [
  {
   "cell_type": "markdown",
   "metadata": {},
   "source": [
    "<center>\n",
    "    <img src=\"https://cf-courses-data.s3.us.cloud-object-storage.appdomain.cloud/IBMDeveloperSkillsNetwork-DS0105EN-SkillsNetwork/labs/Module2/images/SN_web_lightmode.png\" width=\"300\" alt=\"cognitiveclass.ai logo\">\n",
    "</center>\n"
   ]
  },
  {
   "cell_type": "markdown",
   "metadata": {},
   "source": [
    "#### Add your code below following the instructions given in the course\n"
   ]
  },
  {
   "cell_type": "markdown",
   "metadata": {},
   "source": [
    "# ***data science***\n"
   ]
  },
  {
   "cell_type": "markdown",
   "metadata": {},
   "source": [
    " Data science has become the fastest-growing field that every industry knows and leverages. \n",
    " It helps companies understand data and obtain meaningful insights from it. Data science mainly processes data by classifying data into various groups, collecting the data, organizing the data, cleaning the data, and preparing it for analysis & visualization.\n"
   ]
  },
  {
   "cell_type": "markdown",
   "metadata": {},
   "source": [
    "## hears a List of data science language\n",
    "- Python\n",
    "- R\n",
    "- SQL\n",
    "- Java\n",
    "- Julia\n",
    "- Scala\n",
    "- C/C++\n",
    "- JavaScript\n",
    "- Swift\n",
    "- Go\n",
    "- MATLAB\n",
    "- SAS\n",
    "\n",
    "\n"
   ]
  },
  {
   "cell_type": "markdown",
   "metadata": {
    "tags": []
   },
   "source": [
    "## hears a List of data science libraries\n",
    "- Python\n",
    "  - TensorFlow\n",
    "  - NumPy\n",
    "  - SciPy \n",
    "  - Pandas\n",
    "  - Matplotlib\n"
   ]
  },
  {
   "cell_type": "markdown",
   "metadata": {
    "tags": []
   },
   "source": [
    "# Data Science tools\n",
    "\n",
    "|  tool      | Description  |\n",
    "| ----------- | ----------- |\n",
    "| Apache Hadoop  | helps create programming models for massive data volumes across multiple clusters of machines      |\n",
    "| TensorFlow   | creating deep learning neural networks        |\n",
    "| Apache Spark      | applications requiring real-time streaming data processing because of its speed      |\n",
    "| Jupyter Notebook   | allows data science professionals to combine code, computations, data visualizations, etc., in a single file and collaborate among themselves        |\n"
   ]
  },
  {
   "cell_type": "markdown",
   "metadata": {},
   "source": [
    " ***arithmetic expression*** examples.\n",
    " \n",
    " **sum**\n",
    " \n",
    " 5+5\n",
    " \n",
    " **divide**\n",
    "\n",
    "5\\5\n",
    "\n",
    "**subtract**\n",
    "\n",
    "5-5\n"
   ]
  },
  {
   "cell_type": "code",
   "execution_count": 6,
   "metadata": {
    "tags": []
   },
   "outputs": [
    {
     "name": "stdout",
     "output_type": "stream",
     "text": [
      "x =  25 y =  10\n"
     ]
    }
   ],
   "source": [
    "\n",
    "x= 5*5\n",
    "\n",
    "y= 5+5\n",
    "print(\"x = \" , x , \"y = \",y )\n"
   ]
  },
  {
   "cell_type": "code",
   "execution_count": 11,
   "metadata": {
    "tags": []
   },
   "outputs": [
    {
     "name": "stdout",
     "output_type": "stream",
     "text": [
      "120  minets =  2.0 hours = \n"
     ]
    }
   ],
   "source": [
    "\n",
    "x= 120\n",
    "\n",
    "y= x/60\n",
    "print(x , \" minets = \" , y , \"hours = \" )\n"
   ]
  },
  {
   "cell_type": "markdown",
   "metadata": {},
   "source": [
    "\n",
    "## list of objectives\n",
    "\n",
    " - introdaction\n",
    "\n",
    " - list of data science languages\n",
    "\n",
    " - list of data science libraries\n",
    "\n",
    " - a table of Data Science tools\n",
    "\n",
    " - arithmetic expression examples\n",
    "\n",
    " -  code cell to multiply and add numbers\n",
    "\n",
    " - code that convert minets to hours\n"
   ]
  },
  {
   "cell_type": "markdown",
   "metadata": {},
   "source": [
    "\n",
    "# ***Kadi G***\n",
    " \n"
   ]
  }
 ],
 "metadata": {
  "kernelspec": {
   "display_name": "Python",
   "language": "python",
   "name": "conda-env-python-py"
  },
  "language_info": {
   "codemirror_mode": {
    "name": "ipython",
    "version": 3
   },
   "file_extension": ".py",
   "mimetype": "text/x-python",
   "name": "python",
   "nbconvert_exporter": "python",
   "pygments_lexer": "ipython3",
   "version": "3.7.12"
  }
 },
 "nbformat": 4,
 "nbformat_minor": 4
}
